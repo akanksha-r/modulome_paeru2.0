{
 "cells": [
  {
   "cell_type": "code",
   "execution_count": 1,
   "metadata": {},
   "outputs": [],
   "source": [
    "import matplotlib.pyplot as plt\n",
    "import pandas as pd\n",
    "import numpy as np\n",
    "import matplotlib.patches as mpatches\n",
    "from os import path\n",
    "import seaborn as sns\n",
    "\n",
    "from pymodulon.core import IcaData\n",
    "from pymodulon.plotting import *\n",
    "from pymodulon.io import load_json_model\n",
    "\n",
    "import matplotlib\n",
    "matplotlib.rcParams['pdf.fonttype'] = 42\n",
    "matplotlib.rcParams['ps.fonttype'] = 42\n",
    "matplotlib.rcParams['font.sans-serif']='Arial'"
   ]
  },
  {
   "cell_type": "code",
   "execution_count": 2,
   "metadata": {},
   "outputs": [
    {
     "data": {
      "text/html": [
       "<div>\n",
       "<style scoped>\n",
       "    .dataframe tbody tr th:only-of-type {\n",
       "        vertical-align: middle;\n",
       "    }\n",
       "\n",
       "    .dataframe tbody tr th {\n",
       "        vertical-align: top;\n",
       "    }\n",
       "\n",
       "    .dataframe thead th {\n",
       "        text-align: right;\n",
       "    }\n",
       "</style>\n",
       "<table border=\"1\" class=\"dataframe\">\n",
       "  <thead>\n",
       "    <tr style=\"text-align: right;\">\n",
       "      <th></th>\n",
       "      <th>iModulon_name</th>\n",
       "      <th>regulator</th>\n",
       "      <th>pvalue</th>\n",
       "      <th>qvalue</th>\n",
       "      <th>recall</th>\n",
       "      <th>precision</th>\n",
       "      <th>f1score</th>\n",
       "      <th>TP</th>\n",
       "      <th>regulon_size</th>\n",
       "      <th>imodulon_size</th>\n",
       "      <th>n_regs</th>\n",
       "      <th>Exp_variance</th>\n",
       "      <th>function</th>\n",
       "      <th>color</th>\n",
       "      <th>color_name</th>\n",
       "      <th>color1</th>\n",
       "      <th>color2</th>\n",
       "    </tr>\n",
       "    <tr>\n",
       "      <th>iModulon_number</th>\n",
       "      <th></th>\n",
       "      <th></th>\n",
       "      <th></th>\n",
       "      <th></th>\n",
       "      <th></th>\n",
       "      <th></th>\n",
       "      <th></th>\n",
       "      <th></th>\n",
       "      <th></th>\n",
       "      <th></th>\n",
       "      <th></th>\n",
       "      <th></th>\n",
       "      <th></th>\n",
       "      <th></th>\n",
       "      <th></th>\n",
       "      <th></th>\n",
       "      <th></th>\n",
       "    </tr>\n",
       "  </thead>\n",
       "  <tbody>\n",
       "    <tr>\n",
       "      <th>25</th>\n",
       "      <td>NarL-1</td>\n",
       "      <td>Dnr/NarL</td>\n",
       "      <td>3.560000e-13</td>\n",
       "      <td>6.340000e-09</td>\n",
       "      <td>0.240000</td>\n",
       "      <td>0.666667</td>\n",
       "      <td>0.352941</td>\n",
       "      <td>6</td>\n",
       "      <td>25</td>\n",
       "      <td>9</td>\n",
       "      <td>2</td>\n",
       "      <td>0.28</td>\n",
       "      <td>Amino Acid and Nucleotide Biosynthesis</td>\n",
       "      <td>#29abe2</td>\n",
       "      <td>Very light orange</td>\n",
       "      <td>29abe2</td>\n",
       "      <td>#39c</td>\n",
       "    </tr>\n",
       "    <tr>\n",
       "      <th>27</th>\n",
       "      <td>NarL-2</td>\n",
       "      <td>Dnr/NarL</td>\n",
       "      <td>2.110000e-18</td>\n",
       "      <td>3.760000e-14</td>\n",
       "      <td>0.320000</td>\n",
       "      <td>0.800000</td>\n",
       "      <td>0.457143</td>\n",
       "      <td>8</td>\n",
       "      <td>25</td>\n",
       "      <td>10</td>\n",
       "      <td>2</td>\n",
       "      <td>0.30</td>\n",
       "      <td>Amino Acid and Nucleotide Biosynthesis</td>\n",
       "      <td>#29abe2</td>\n",
       "      <td>Very light orange</td>\n",
       "      <td>29abe2</td>\n",
       "      <td>#39c</td>\n",
       "    </tr>\n",
       "    <tr>\n",
       "      <th>11</th>\n",
       "      <td>CbrB</td>\n",
       "      <td>CbrB</td>\n",
       "      <td>1.310000e-06</td>\n",
       "      <td>5.833050e-03</td>\n",
       "      <td>0.375000</td>\n",
       "      <td>0.176471</td>\n",
       "      <td>0.240000</td>\n",
       "      <td>3</td>\n",
       "      <td>8</td>\n",
       "      <td>17</td>\n",
       "      <td>1</td>\n",
       "      <td>0.30</td>\n",
       "      <td>Amino Acid and Nucleotide Biosynthesis</td>\n",
       "      <td>#29abe2</td>\n",
       "      <td>Very light orange</td>\n",
       "      <td>29abe2</td>\n",
       "      <td>#39c</td>\n",
       "    </tr>\n",
       "    <tr>\n",
       "      <th>55</th>\n",
       "      <td>MmsR</td>\n",
       "      <td>PrpR/MmsR</td>\n",
       "      <td>2.320000e-07</td>\n",
       "      <td>4.136930e-03</td>\n",
       "      <td>0.375000</td>\n",
       "      <td>0.300000</td>\n",
       "      <td>0.333333</td>\n",
       "      <td>3</td>\n",
       "      <td>8</td>\n",
       "      <td>10</td>\n",
       "      <td>2</td>\n",
       "      <td>0.50</td>\n",
       "      <td>Amino Acid and Nucleotide Biosynthesis</td>\n",
       "      <td>#29abe2</td>\n",
       "      <td>Very light orange</td>\n",
       "      <td>29abe2</td>\n",
       "      <td>#39c</td>\n",
       "    </tr>\n",
       "    <tr>\n",
       "      <th>67</th>\n",
       "      <td>ErbR-1</td>\n",
       "      <td>LldR/ErbR</td>\n",
       "      <td>5.040000e-12</td>\n",
       "      <td>8.980000e-08</td>\n",
       "      <td>0.466667</td>\n",
       "      <td>0.166667</td>\n",
       "      <td>0.245614</td>\n",
       "      <td>7</td>\n",
       "      <td>15</td>\n",
       "      <td>42</td>\n",
       "      <td>2</td>\n",
       "      <td>0.47</td>\n",
       "      <td>Amino Acid and Nucleotide Biosynthesis</td>\n",
       "      <td>#29abe2</td>\n",
       "      <td>Very light orange</td>\n",
       "      <td>29abe2</td>\n",
       "      <td>#39c</td>\n",
       "    </tr>\n",
       "  </tbody>\n",
       "</table>\n",
       "</div>"
      ],
      "text/plain": [
       "                iModulon_name  regulator        pvalue        qvalue  \\\n",
       "iModulon_number                                                        \n",
       "25                     NarL-1   Dnr/NarL  3.560000e-13  6.340000e-09   \n",
       "27                     NarL-2   Dnr/NarL  2.110000e-18  3.760000e-14   \n",
       "11                       CbrB       CbrB  1.310000e-06  5.833050e-03   \n",
       "55                       MmsR  PrpR/MmsR  2.320000e-07  4.136930e-03   \n",
       "67                     ErbR-1  LldR/ErbR  5.040000e-12  8.980000e-08   \n",
       "\n",
       "                   recall  precision   f1score  TP  regulon_size  \\\n",
       "iModulon_number                                                    \n",
       "25               0.240000   0.666667  0.352941   6            25   \n",
       "27               0.320000   0.800000  0.457143   8            25   \n",
       "11               0.375000   0.176471  0.240000   3             8   \n",
       "55               0.375000   0.300000  0.333333   3             8   \n",
       "67               0.466667   0.166667  0.245614   7            15   \n",
       "\n",
       "                 imodulon_size  n_regs  Exp_variance  \\\n",
       "iModulon_number                                        \n",
       "25                           9       2          0.28   \n",
       "27                          10       2          0.30   \n",
       "11                          17       1          0.30   \n",
       "55                          10       2          0.50   \n",
       "67                          42       2          0.47   \n",
       "\n",
       "                                               function    color  \\\n",
       "iModulon_number                                                    \n",
       "25               Amino Acid and Nucleotide Biosynthesis  #29abe2   \n",
       "27               Amino Acid and Nucleotide Biosynthesis  #29abe2   \n",
       "11               Amino Acid and Nucleotide Biosynthesis  #29abe2   \n",
       "55               Amino Acid and Nucleotide Biosynthesis  #29abe2   \n",
       "67               Amino Acid and Nucleotide Biosynthesis  #29abe2   \n",
       "\n",
       "                        color_name  color1 color2  \n",
       "iModulon_number                                    \n",
       "25               Very light orange  29abe2   #39c  \n",
       "27               Very light orange  29abe2   #39c  \n",
       "11               Very light orange  29abe2   #39c  \n",
       "55               Very light orange  29abe2   #39c  \n",
       "67               Very light orange  29abe2   #39c  "
      ]
     },
     "execution_count": 2,
     "metadata": {},
     "output_type": "execute_result"
    }
   ],
   "source": [
    "processed = path.join(\"..\",\"data\",\"processed_data\")\n",
    "data = pd.read_csv(path.join(processed,\"bubble_plot_input.csv\"),index_col=0)\n",
    "data.head()"
   ]
  },
  {
   "cell_type": "code",
   "execution_count": 3,
   "metadata": {},
   "outputs": [
    {
     "data": {
      "image/png": "[encoded data removed]",
      "text/plain": [
       "<Figure size 432x432 with 3 Axes>"
      ]
     },
     "metadata": {
      "needs_background": "light"
     },
     "output_type": "display_data"
    }
   ],
   "source": [
    "sns.jointplot(x=data.recall, \n",
    "              y=data.precision,\n",
    "              data=data, marginal_kws=dict(bins=30, fill=True))\n",
    "\n",
    "# plt.savefig(\"../../../UCSD/Pseudo_Precise/Figures/paeru_precise02/scatter_QC.pdf\", transparent=True, bbox_inches = 'tight')"
   ]
  },
  {
   "cell_type": "markdown",
   "metadata": {},
   "source": [
    "## Explained variance"
   ]
  },
  {
   "cell_type": "code",
   "execution_count": 4,
   "metadata": {},
   "outputs": [],
   "source": [
    "ica_data=load_json_model('../Paeru_imod_info_112_part2.json')"
   ]
  },
  {
   "cell_type": "code",
   "execution_count": 5,
   "metadata": {},
   "outputs": [
    {
     "data": {
      "text/plain": [
       "([], [])"
      ]
     },
     "execution_count": 5,
     "metadata": {},
     "output_type": "execute_result"
    },
    {
     "data": {
      "image/png": "[encoded data removed]",
      "text/plain": [
       "<Figure size 504x360 with 1 Axes>"
      ]
     },
     "metadata": {
      "needs_background": "light"
     },
     "output_type": "display_data"
    }
   ],
   "source": [
    "explained_variance_values = {}\n",
    "for i in ica_data.A.index:\n",
    "    explained_variance_values.update({i:explained_variance(ica_data,imodulons=i)})\n",
    "fig,ax = plt.subplots(figsize=[7,5])\n",
    "count = 0\n",
    "sorted_dict = []\n",
    "for i in sorted(explained_variance_values.values(), reverse = True):\n",
    "    for j in explained_variance_values.keys():\n",
    "        if explained_variance_values[j] == i:\n",
    "            sorted_dict.append(j)\n",
    "            \n",
    "for i in sorted(explained_variance_values.values(),reverse =True):\n",
    "    ax.bar(count,i)\n",
    "    count += 1\n",
    "    \n",
    "ax.set_title(\"Explained Variance Plot\",fontsize=14)\n",
    "ax.set_ylabel(\"Explained Variance\")\n",
    "plt.xticks([],fontsize=12)\n",
    "\n"
   ]
  },
  {
   "cell_type": "code",
   "execution_count": 6,
   "metadata": {},
   "outputs": [
    {
     "data": {
      "text/plain": [
       "62.168786826926144"
      ]
     },
     "execution_count": 6,
     "metadata": {},
     "output_type": "execute_result"
    }
   ],
   "source": [
    "total = 0\n",
    "for i in sorted(explained_variance_values.values(),reverse =True):\n",
    "    total+=i\n",
    "total"
   ]
  },
  {
   "cell_type": "code",
   "execution_count": null,
   "metadata": {},
   "outputs": [],
   "source": []
  }
 ],
 "metadata": {
  "kernelspec": {
   "display_name": "Python 3",
   "language": "python",
   "name": "python3"
  },
  "language_info": {
   "codemirror_mode": {
    "name": "ipython",
    "version": 3
   },
   "file_extension": ".py",
   "mimetype": "text/x-python",
   "name": "python",
   "nbconvert_exporter": "python",
   "pygments_lexer": "ipython3",
   "version": "3.8.5"
  }
 },
 "nbformat": 4,
 "nbformat_minor": 4
}
