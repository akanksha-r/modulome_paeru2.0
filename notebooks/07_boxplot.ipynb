{
 "cells": [
  {
   "cell_type": "code",
   "execution_count": 1,
   "metadata": {},
   "outputs": [],
   "source": [
    "import pandas as pd\n",
    "import seaborn as sns\n",
    "import numpy as np\n",
    "from os import path\n",
    "from scipy import stats\n",
    "from scipy.stats import pearsonr\n",
    "from statannot import add_stat_annotation\n",
    "\n",
    "import matplotlib.pyplot as plt\n",
    "import matplotlib.patches as mpatches\n",
    "import matplotlib\n",
    "matplotlib.rcParams['pdf.fonttype'] = 42\n",
    "matplotlib.rcParams['ps.fonttype'] = 42\n",
    "matplotlib.rcParams['font.sans-serif']='Arial'"
   ]
  },
  {
   "cell_type": "code",
   "execution_count": 2,
   "metadata": {},
   "outputs": [
    {
     "data": {
      "text/html": [
       "<div>\n",
       "<style scoped>\n",
       "    .dataframe tbody tr th:only-of-type {\n",
       "        vertical-align: middle;\n",
       "    }\n",
       "\n",
       "    .dataframe tbody tr th {\n",
       "        vertical-align: top;\n",
       "    }\n",
       "\n",
       "    .dataframe thead th {\n",
       "        text-align: right;\n",
       "    }\n",
       "</style>\n",
       "<table border=\"1\" class=\"dataframe\">\n",
       "  <thead>\n",
       "    <tr style=\"text-align: right;\">\n",
       "      <th></th>\n",
       "      <th>CAMHB</th>\n",
       "      <th>CAMHB_beta_lactam</th>\n",
       "      <th>R10LB_beta_lactam</th>\n",
       "      <th>R10LB</th>\n",
       "    </tr>\n",
       "  </thead>\n",
       "  <tbody>\n",
       "    <tr>\n",
       "      <th>0</th>\n",
       "      <td>1.306297</td>\n",
       "      <td>-0.31</td>\n",
       "      <td>-0.170</td>\n",
       "      <td>0.095989</td>\n",
       "    </tr>\n",
       "    <tr>\n",
       "      <th>1</th>\n",
       "      <td>-3.772615</td>\n",
       "      <td>0.12</td>\n",
       "      <td>0.660</td>\n",
       "      <td>1.443445</td>\n",
       "    </tr>\n",
       "    <tr>\n",
       "      <th>2</th>\n",
       "      <td>1.116445</td>\n",
       "      <td>0.13</td>\n",
       "      <td>1.039</td>\n",
       "      <td>6.845341</td>\n",
       "    </tr>\n",
       "    <tr>\n",
       "      <th>3</th>\n",
       "      <td>0.449394</td>\n",
       "      <td>-1.81</td>\n",
       "      <td>0.490</td>\n",
       "      <td>1.247974</td>\n",
       "    </tr>\n",
       "    <tr>\n",
       "      <th>4</th>\n",
       "      <td>5.598720</td>\n",
       "      <td>NaN</td>\n",
       "      <td>NaN</td>\n",
       "      <td>2.365967</td>\n",
       "    </tr>\n",
       "  </tbody>\n",
       "</table>\n",
       "</div>"
      ],
      "text/plain": [
       "      CAMHB  CAMHB_beta_lactam  R10LB_beta_lactam     R10LB\n",
       "0  1.306297              -0.31             -0.170  0.095989\n",
       "1 -3.772615               0.12              0.660  1.443445\n",
       "2  1.116445               0.13              1.039  6.845341\n",
       "3  0.449394              -1.81              0.490  1.247974\n",
       "4  5.598720                NaN                NaN  2.365967"
      ]
     },
     "execution_count": 2,
     "metadata": {},
     "output_type": "execute_result"
    }
   ],
   "source": [
    "processed = path.join(\"..\",\"data\",\"processed_data\")\n",
    "data = pd.read_csv(path.join(processed,\"box_plot_R10LB_CAMHB.csv\"),index_col=None,sep=',')\n",
    "data.head()"
   ]
  },
  {
   "cell_type": "code",
   "execution_count": 3,
   "metadata": {},
   "outputs": [
    {
     "data": {
      "text/plain": [
       "[Text(0, 0, 'CAMHB'),\n",
       " Text(1, 0, 'CAMHB_Antibiotics'),\n",
       " Text(2, 0, 'R10LB_Antibiotics'),\n",
       " Text(3, 0, 'R10LB')]"
      ]
     },
     "execution_count": 3,
     "metadata": {},
     "output_type": "execute_result"
    },
    {
     "data": {
      "image/png": "[encoded data removed]",
      "text/plain": [
       "<Figure size 216x288 with 1 Axes>"
      ]
     },
     "metadata": {
      "needs_background": "light"
     },
     "output_type": "display_data"
    }
   ],
   "source": [
    "plt.figure(figsize=(3,4))\n",
    "\n",
    "ax=sns.boxplot(data=data, orient='v')\n",
    "ax.set_xticklabels([\"CAMHB\",\"CAMHB_Antibiotics\",\"R10LB_Antibiotics\",\"R10LB\"],rotation=90)\n",
    "    \n",
    "# plt.savefig(\"../../../UCSD/Pseudo_Precise/Figures/paeru_precise02/boxplot_CAMHB_R10LB.pdf\", transparent=True, bbox_inches = 'tight')# plt.savefig(\"../../../UCSD/Pseudo_Precise/Figures/paeru_precise02/heatmap_CAMHB_R10LB.pdf\", transparent=True, bbox_inches = 'tight')"
   ]
  },
  {
   "cell_type": "code",
   "execution_count": 4,
   "metadata": {},
   "outputs": [],
   "source": [
    "# a=[-0.31,0.12,0.13,-1.81]\n",
    "# b=[-0.17,0.66,1.039,0.49]\n",
    "\n",
    "# pval=stats.ttest_ind(a,b).pvalue\n",
    "# pval\n"
   ]
  },
  {
   "cell_type": "code",
   "execution_count": null,
   "metadata": {},
   "outputs": [],
   "source": []
  },
  {
   "cell_type": "code",
   "execution_count": null,
   "metadata": {},
   "outputs": [],
   "source": []
  }
 ],
 "metadata": {
  "kernelspec": {
   "display_name": "Python 3",
   "language": "python",
   "name": "python3"
  },
  "language_info": {
   "codemirror_mode": {
    "name": "ipython",
    "version": 3
   },
   "file_extension": ".py",
   "mimetype": "text/x-python",
   "name": "python",
   "nbconvert_exporter": "python",
   "pygments_lexer": "ipython3",
   "version": "3.8.5"
  }
 },
 "nbformat": 4,
 "nbformat_minor": 4
}
